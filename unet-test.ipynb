{
 "cells": [
  {
   "cell_type": "markdown",
   "metadata": {},
   "source": [
    "# Liver tumors segmentation\n",
    "\n",
    "Ahmed El Bajdali - ahmed.el-bajdali@student-cs.fr \\\n",
    "Marouane EL Ouarraq - marouane.el-ouarraq@student-cs.fr \\\n",
    "Cyrielle Théobald - cyrielle.theobald@student-cs.fr"
   ]
  },
  {
   "cell_type": "markdown",
   "metadata": {},
   "source": [
    "## Initialization of the notebook "
   ]
  },
  {
   "cell_type": "markdown",
   "metadata": {},
   "source": [
    "### Useful Imports"
   ]
  },
  {
   "cell_type": "code",
   "execution_count": 84,
   "metadata": {
    "execution": {
     "iopub.execute_input": "2025-04-17T13:07:55.434982Z",
     "iopub.status.busy": "2025-04-17T13:07:55.434521Z",
     "iopub.status.idle": "2025-04-17T13:07:55.443316Z",
     "shell.execute_reply": "2025-04-17T13:07:55.442106Z",
     "shell.execute_reply.started": "2025-04-17T13:07:55.434955Z"
    },
    "trusted": true
   },
   "outputs": [],
   "source": [
    "import os\n",
    "import csv\n",
    "\n",
    "import random\n",
    "import pandas as pd\n",
    "import numpy as np\n",
    "import matplotlib.pyplot as plt\n",
    "import cv2\n",
    "\n",
    "import nibabel as nib\n",
    "from tqdm import tqdm\n",
    "import time \n",
    "\n",
    "from matplotlib.widgets import Slider\n",
    "import ipywidgets as widgets\n",
    "from ipywidgets import interact\n",
    "\n",
    "# Torch\n",
    "import torch\n",
    "import torch.nn as nn\n",
    "import torch.nn.functional as F\n",
    "import torch.optim as optim\n",
    "import torchvision.transforms as T\n",
    "from torch.nn.functional import relu\n",
    "from torch.utils.data import Dataset, DataLoader\n",
    "from torchsummary import summary\n",
    "from sklearn.model_selection import train_test_split\n",
    "\n",
    "import nibabel as nib\n",
    "import logging\n",
    "nib_logger = logging.getLogger(\"nibabel\")\n",
    "nib_logger.setLevel(logging.ERROR)"
   ]
  },
  {
   "cell_type": "code",
   "execution_count": 85,
   "metadata": {
    "execution": {
     "iopub.execute_input": "2025-04-17T13:07:55.592093Z",
     "iopub.status.busy": "2025-04-17T13:07:55.591761Z",
     "iopub.status.idle": "2025-04-17T13:07:55.596958Z",
     "shell.execute_reply": "2025-04-17T13:07:55.595803Z",
     "shell.execute_reply.started": "2025-04-17T13:07:55.592069Z"
    },
    "trusted": true
   },
   "outputs": [],
   "source": [
    "device = torch.device('cuda' if torch.cuda.is_available() else 'cpu')"
   ]
  },
  {
   "cell_type": "code",
   "execution_count": 86,
   "metadata": {
    "execution": {
     "iopub.execute_input": "2025-04-17T13:07:55.753239Z",
     "iopub.status.busy": "2025-04-17T13:07:55.752483Z",
     "iopub.status.idle": "2025-04-17T13:07:55.760491Z",
     "shell.execute_reply": "2025-04-17T13:07:55.759366Z",
     "shell.execute_reply.started": "2025-04-17T13:07:55.753209Z"
    },
    "trusted": true
   },
   "outputs": [],
   "source": [
    "class LiverSegmentationConfig:\n",
    "    \"\"\"Configuration class for liver tumor segmentation\"\"\"\n",
    "\n",
    "    def __init__(self):\n",
    "        self.train_dir = '/kaggle/input/liver-tumor-segmentation-part-2/volume_pt6'\n",
    "        self.labels_dir = '/kaggle/input/liver-tumor-segmentation/segmentations'\n",
    "\n",
    "        self.volume_paths = list()\n",
    "        self.seg_paths = list()\n",
    "\n",
    "        # Parameters\n",
    "        self.n_classes = 1\n",
    "        self.window_size = (-20,120)\n",
    "        self.batch_size = 16\n",
    "        self.learning_rate = 1e-3\n",
    "        self.target_size = 128\n",
    "\n",
    "    def _init_paths(self):\n",
    "        \"\"\"Initialize volume and segmentation paths\"\"\"\n",
    "        for file in os.listdir(self.train_dir):\n",
    "            if file.endswith('.nii'):\n",
    "                vol_path = os.path.join(self.train_dir, file)\n",
    "                seg_file = file.replace('volume', 'segmentation')\n",
    "                seg_path = os.path.join(self.labels_dir, seg_file)\n",
    "                \n",
    "                if os.path.exists(seg_path):\n",
    "                    self.volume_paths.append(vol_path)\n",
    "                    self.seg_paths.append(seg_path)\n",
    "        self.volume_paths = self.volume_paths[:5] # less pictures for faster training\n",
    "        self.seg_paths = self.seg_paths[:5] # less pictures for faster training\n",
    "        \n",
    "        print(f\"Found {len(self.volume_paths)} volumes and {len(self.seg_paths)} segmentations\")"
   ]
  },
  {
   "cell_type": "code",
   "execution_count": 87,
   "metadata": {
    "execution": {
     "iopub.execute_input": "2025-04-17T13:07:55.908471Z",
     "iopub.status.busy": "2025-04-17T13:07:55.908128Z",
     "iopub.status.idle": "2025-04-17T13:07:55.952424Z",
     "shell.execute_reply": "2025-04-17T13:07:55.951302Z",
     "shell.execute_reply.started": "2025-04-17T13:07:55.908425Z"
    },
    "trusted": true
   },
   "outputs": [
    {
     "name": "stdout",
     "output_type": "stream",
     "text": [
      "Found 5 volumes and 5 segmentations\n",
      "Example of a volume path: /kaggle/input/liver-tumor-segmentation-part-2/volume_pt6/volume-66.nii\n",
      "Example of a segmentation path: /kaggle/input/liver-tumor-segmentation/segmentations/segmentation-66.nii\n"
     ]
    }
   ],
   "source": [
    "config = LiverSegmentationConfig()\n",
    "config._init_paths()\n",
    "\n",
    "print(f\"Example of a volume path: {config.volume_paths[4]}\")\n",
    "print(f\"Example of a segmentation path: {config.seg_paths[4]}\")"
   ]
  },
  {
   "cell_type": "markdown",
   "metadata": {},
   "source": [
    "## Visualization "
   ]
  },
  {
   "cell_type": "code",
   "execution_count": 88,
   "metadata": {
    "execution": {
     "iopub.execute_input": "2025-04-17T13:07:57.901376Z",
     "iopub.status.busy": "2025-04-17T13:07:57.901054Z",
     "iopub.status.idle": "2025-04-17T13:07:58.501266Z",
     "shell.execute_reply": "2025-04-17T13:07:58.500243Z",
     "shell.execute_reply.started": "2025-04-17T13:07:57.901352Z"
    },
    "trusted": true
   },
   "outputs": [
    {
     "data": {
      "application/vnd.jupyter.widget-view+json": {
       "model_id": "c919fda845c04717800c2d13479f8635",
       "version_major": 2,
       "version_minor": 0
      },
      "text/plain": [
       "interactive(children=(IntSlider(value=64, description='orientation', max=85), Output()), _dom_classes=('widget…"
      ]
     },
     "metadata": {},
     "output_type": "display_data"
    }
   ],
   "source": [
    "index = 4\n",
    "\n",
    "image_path = config.volume_paths[index]\n",
    "data = nib.load(image_path).get_fdata().transpose(2,1,0)\n",
    "segmentation = nib.load(config.seg_paths[index]).get_fdata().transpose(2,1,0)\n",
    "\n",
    "def update(orientation):\n",
    "    fig, axes = plt.subplots(1, 2, figsize=(10, 5))\n",
    "    axes[0].imshow(data[orientation], cmap='gray')\n",
    "    axes[0].set_title(\"Original Image\")\n",
    "    axes[1].imshow(segmentation[orientation], cmap='gray')\n",
    "    axes[1].set_title(\"Segmented Image\") \n",
    "    plt.show()\n",
    "\n",
    "interact(update, orientation = widgets.IntSlider(min=0, max=len(data)-1, step=1, value=3*len(data)//4));"
   ]
  },
  {
   "cell_type": "markdown",
   "metadata": {},
   "source": [
    "## Preprocessing and Data loading"
   ]
  },
  {
   "cell_type": "code",
   "execution_count": 89,
   "metadata": {
    "execution": {
     "iopub.execute_input": "2025-04-17T13:08:01.293493Z",
     "iopub.status.busy": "2025-04-17T13:08:01.293170Z",
     "iopub.status.idle": "2025-04-17T13:08:01.300289Z",
     "shell.execute_reply": "2025-04-17T13:08:01.299428Z",
     "shell.execute_reply.started": "2025-04-17T13:08:01.293470Z"
    },
    "trusted": true
   },
   "outputs": [],
   "source": [
    "def preprocessing(scan: np.ndarray, window: tuple = (-20,120), new_size=config.target_size) -> np.ndarray:\n",
    "    \"\"\"Applying windowing for given Data and Normalizing\"\"\"\n",
    "    min_value, max_value = window\n",
    "\n",
    "    scan = cv2.resize(scan, (new_size, new_size), interpolation = cv2.INTER_AREA)\n",
    "    \n",
    "    windowed_scan = np.clip(scan, min_value, max_value) # Windowing\n",
    "    normalized_scan = ((windowed_scan - min_value) / (max_value - min_value)) # Normalization\n",
    "\n",
    "    return normalized_scan\n",
    "\n",
    "def preprocessing_mask(mask: np.ndarray, new_size=config.target_size):\n",
    "    mask = cv2.resize(mask, (new_size, new_size), interpolation = cv2.INTER_AREA)\n",
    "    mask = (mask > 0).astype(np.float32)\n",
    "    return mask"
   ]
  },
  {
   "cell_type": "markdown",
   "metadata": {},
   "source": [
    "### Visualize preprocessing"
   ]
  },
  {
   "cell_type": "code",
   "execution_count": 90,
   "metadata": {
    "execution": {
     "iopub.execute_input": "2025-04-17T13:08:04.380940Z",
     "iopub.status.busy": "2025-04-17T13:08:04.380298Z",
     "iopub.status.idle": "2025-04-17T13:08:04.917960Z",
     "shell.execute_reply": "2025-04-17T13:08:04.916881Z",
     "shell.execute_reply.started": "2025-04-17T13:08:04.380911Z"
    },
    "trusted": true
   },
   "outputs": [
    {
     "data": {
      "application/vnd.jupyter.widget-view+json": {
       "model_id": "286b9ccc8bed4ec9bf1dc47afd37e0ac",
       "version_major": 2,
       "version_minor": 0
      },
      "text/plain": [
       "interactive(children=(IntSlider(value=64, description='slice_id', max=85), Output()), _dom_classes=('widget-in…"
      ]
     },
     "metadata": {},
     "output_type": "display_data"
    }
   ],
   "source": [
    "index = 4\n",
    "\n",
    "image_path = config.volume_paths[index]\n",
    "data = nib.load(image_path).get_fdata().transpose(2,1,0)\n",
    "segmentation = nib.load(config.seg_paths[index]).get_fdata().transpose(2,1,0)\n",
    "\n",
    "def update_with_preprocessing(slice_id):\n",
    "    raw_slice = data[slice_id]\n",
    "    preprocessed = preprocessing(raw_slice)\n",
    "    seg_slice = segmentation[slice_id]\n",
    "    seg_slice = preprocessing_mask(seg_slice)\n",
    "\n",
    "    fig, axes = plt.subplots(1, 3, figsize=(15, 5))\n",
    "    axes[0].imshow(raw_slice, cmap='gray')\n",
    "    axes[0].set_title(\"Original Slice\")\n",
    "\n",
    "    axes[1].imshow(preprocessed, cmap='gray')\n",
    "    axes[1].set_title(\"Preprocessed\")\n",
    "\n",
    "    axes[2].imshow(seg_slice, cmap='gray')\n",
    "    axes[2].set_title(\"Segmentation Mask\")\n",
    "\n",
    "    for ax in axes:\n",
    "        ax.axis('off')\n",
    "    \n",
    "    plt.tight_layout()\n",
    "    plt.show()\n",
    "\n",
    "interact(update_with_preprocessing, slice_id = widgets.IntSlider(min=0, max=len(data)-1, step=1, value=3*len(data)//4));"
   ]
  },
  {
   "cell_type": "markdown",
   "metadata": {},
   "source": [
    "### Dataloader"
   ]
  },
  {
   "cell_type": "code",
   "execution_count": null,
   "metadata": {
    "execution": {
     "iopub.execute_input": "2025-04-17T13:08:43.413046Z",
     "iopub.status.busy": "2025-04-17T13:08:43.412280Z",
     "iopub.status.idle": "2025-04-17T13:08:43.423575Z",
     "shell.execute_reply": "2025-04-17T13:08:43.422304Z",
     "shell.execute_reply.started": "2025-04-17T13:08:43.413010Z"
    },
    "trusted": true
   },
   "outputs": [],
   "source": [
    "class SlicesDataset(Dataset):\n",
    "    def __init__(self, volume_paths, seg_paths, transform = preprocessing, transform_mask = preprocessing_mask):\n",
    "        self.volume_paths = volume_paths\n",
    "        self.seg_paths = seg_paths\n",
    "        self.transform = transform\n",
    "        self.transform_mask = transform_mask\n",
    "        self.slice_info = self._get_slice_info()\n",
    "\n",
    "    def _get_slice_info(self):\n",
    "        slice_info = []\n",
    "        for vol_idx, volume_paths in enumerate(self.volume_paths):\n",
    "            vol = nib.load(volume_paths)\n",
    "            num_slices = vol.shape[2]\n",
    "            for slice_idx in range(num_slices//2,num_slices): # less slices for faster training\n",
    "                slice_info.append((vol_idx, slice_idx))\n",
    "        return slice_info\n",
    "\n",
    "    def __len__(self):\n",
    "        return len(self.slice_info)\n",
    "\n",
    "    def __getitem__(self, idx):\n",
    "        vol_idx, slice_idx = self.slice_info[idx]\n",
    "    \n",
    "        vol = nib.load(self.volume_paths[vol_idx]).get_fdata()\n",
    "        seg = nib.load(self.seg_paths[vol_idx]).get_fdata()\n",
    "    \n",
    "        slice_vol = vol[:, :, slice_idx]         # Shape (512, 512)\n",
    "        slice_seg = seg[:, :, slice_idx]         # (512, 512)\n",
    "    \n",
    "        X = self.transform(slice_vol)            # (256, 256)\n",
    "        Y = self.transform_mask(slice_seg)       # (256, 256)\n",
    "    \n",
    "        X = np.expand_dims(X, axis=0)            # (1, 256, 256)\n",
    "        Y = np.expand_dims(Y, axis=0)            # (1, 256, 256)\n",
    "    \n",
    "        X = torch.tensor(X, dtype=torch.float32)\n",
    "        Y = torch.tensor(Y, dtype=torch.float32)\n",
    "    \n",
    "        return X, Y"
   ]
  },
  {
   "cell_type": "code",
   "execution_count": 92,
   "metadata": {
    "execution": {
     "iopub.execute_input": "2025-04-17T13:08:44.903819Z",
     "iopub.status.busy": "2025-04-17T13:08:44.903419Z",
     "iopub.status.idle": "2025-04-17T13:08:44.910250Z",
     "shell.execute_reply": "2025-04-17T13:08:44.909282Z",
     "shell.execute_reply.started": "2025-04-17T13:08:44.903793Z"
    },
    "trusted": true
   },
   "outputs": [],
   "source": [
    "X_train, X_test, Y_train, Y_test = train_test_split(config.volume_paths, config.seg_paths, test_size = 0.2, random_state = 0)"
   ]
  },
  {
   "cell_type": "code",
   "execution_count": 93,
   "metadata": {
    "execution": {
     "iopub.execute_input": "2025-04-17T13:08:45.075942Z",
     "iopub.status.busy": "2025-04-17T13:08:45.075571Z",
     "iopub.status.idle": "2025-04-17T13:08:45.102657Z",
     "shell.execute_reply": "2025-04-17T13:08:45.101964Z",
     "shell.execute_reply.started": "2025-04-17T13:08:45.075918Z"
    },
    "trusted": true
   },
   "outputs": [],
   "source": [
    "train_dataset = SlicesDataset(X_train, Y_train, transform = preprocessing, transform_mask=preprocessing_mask)\n",
    "test_dataset = SlicesDataset(X_test, Y_test, transform = preprocessing, transform_mask=preprocessing_mask)"
   ]
  },
  {
   "cell_type": "code",
   "execution_count": 94,
   "metadata": {
    "execution": {
     "iopub.execute_input": "2025-04-17T13:08:45.374209Z",
     "iopub.status.busy": "2025-04-17T13:08:45.373906Z",
     "iopub.status.idle": "2025-04-17T13:08:45.379903Z",
     "shell.execute_reply": "2025-04-17T13:08:45.378921Z",
     "shell.execute_reply.started": "2025-04-17T13:08:45.374189Z"
    },
    "trusted": true
   },
   "outputs": [],
   "source": [
    "train_dataloader = DataLoader(train_dataset, batch_size = config.batch_size, shuffle = True)\n",
    "test_dataloader = DataLoader(test_dataset, batch_size = config.batch_size, shuffle = False)"
   ]
  },
  {
   "cell_type": "markdown",
   "metadata": {},
   "source": [
    "## Define the model"
   ]
  },
  {
   "cell_type": "code",
   "execution_count": 95,
   "metadata": {
    "execution": {
     "iopub.execute_input": "2025-04-17T13:08:46.827716Z",
     "iopub.status.busy": "2025-04-17T13:08:46.826826Z",
     "iopub.status.idle": "2025-04-17T13:08:46.840061Z",
     "shell.execute_reply": "2025-04-17T13:08:46.838914Z",
     "shell.execute_reply.started": "2025-04-17T13:08:46.827673Z"
    },
    "trusted": true
   },
   "outputs": [],
   "source": [
    "class UNet(nn.Module):\n",
    "    def __init__(self, in_channels=1, out_channels=1):\n",
    "        super(UNet, self).__init__()\n",
    "        \n",
    "        def conv_block(in_channels=1, out_channels=config.n_classes):\n",
    "            return nn.Sequential(\n",
    "                nn.Conv2d(in_channels, out_channels, kernel_size=3, padding=1),\n",
    "                nn.ReLU(inplace=True),\n",
    "                nn.Conv2d(out_channels, out_channels, kernel_size=3, padding=1),\n",
    "                nn.ReLU(inplace=True)\n",
    "            )\n",
    "\n",
    "        # Encoder path\n",
    "        self.enc1 = conv_block(in_channels, 64)\n",
    "        self.pool1 = nn.MaxPool2d(2)\n",
    "        \n",
    "        self.enc2 = conv_block(64, 128)\n",
    "        self.pool2 = nn.MaxPool2d(2)\n",
    "\n",
    "        self.enc3 = conv_block(128, 256)\n",
    "        self.pool3 = nn.MaxPool2d(2)\n",
    "\n",
    "        self.enc4 = conv_block(256, 512)\n",
    "        self.pool4 = nn.MaxPool2d(2)\n",
    "        \n",
    "        # Bottleneck\n",
    "        self.bottleneck = conv_block(512, 1024)\n",
    "\n",
    "        # Decoder path\n",
    "        self.upconv4 = nn.ConvTranspose2d(1024, 512, kernel_size=2, stride=2)\n",
    "        self.dec4 = conv_block(1024, 512)\n",
    "\n",
    "        self.upconv3 = nn.ConvTranspose2d(512, 256, kernel_size=2, stride=2)\n",
    "        self.dec3 = conv_block(512, 256)\n",
    "\n",
    "        self.upconv2 = nn.ConvTranspose2d(256, 128, kernel_size=2, stride=2)\n",
    "        self.dec2 = conv_block(256, 128)\n",
    "\n",
    "        self.upconv1 = nn.ConvTranspose2d(128, 64, kernel_size=2, stride=2)\n",
    "        self.dec1 = conv_block(128, 64)\n",
    "\n",
    "        self.final_conv = nn.Conv2d(64, config.n_classes, kernel_size=1)\n",
    "        \n",
    "    def forward(self, x):\n",
    "        \n",
    "        # Encoder\n",
    "        x1 = self.enc1(x)\n",
    "        x2 = self.enc2(self.pool1(x1))\n",
    "        x3 = self.enc3(self.pool2(x2))\n",
    "        x4 = self.enc4(self.pool3(x3))\n",
    "\n",
    "        # Bottleneck\n",
    "        x = self.bottleneck(self.pool4(x4))\n",
    "\n",
    "        # Decoder\n",
    "        x = self.upconv4(x)\n",
    "        x = torch.cat([x, x4], dim=1)\n",
    "        x = self.dec4(x)\n",
    "\n",
    "        x = self.upconv3(x)\n",
    "        x = torch.cat([x, x3], dim=1)\n",
    "        x = self.dec3(x)\n",
    "\n",
    "        x = self.upconv2(x)\n",
    "        x = torch.cat([x, x2], dim=1)\n",
    "        x = self.dec2(x)\n",
    "\n",
    "        x = self.upconv1(x)\n",
    "        x = torch.cat([x, x1], dim=1)\n",
    "        x = self.dec1(x)\n",
    "\n",
    "        return self.final_conv(x)"
   ]
  },
  {
   "cell_type": "markdown",
   "metadata": {},
   "source": [
    "### Metrics"
   ]
  },
  {
   "cell_type": "code",
   "execution_count": null,
   "metadata": {
    "execution": {
     "iopub.execute_input": "2025-04-17T14:33:29.670190Z",
     "iopub.status.busy": "2025-04-17T14:33:29.669819Z",
     "iopub.status.idle": "2025-04-17T14:33:29.681656Z",
     "shell.execute_reply": "2025-04-17T14:33:29.680527Z",
     "shell.execute_reply.started": "2025-04-17T14:33:29.670163Z"
    },
    "trusted": true
   },
   "outputs": [],
   "source": [
    "def compute_metrics(outputs, targets, epsilon=1e-8):\n",
    "    \"\"\"\n",
    "    Computes Dice score, Dice loss, IoU, Precision, and Recall.\n",
    "    \n",
    "    Args:\n",
    "        outputs (torch.Tensor): Predicted mask (probabilistic).\n",
    "        target (torch.Tensor): Ground truth mask.\n",
    "        epsilon (float): Small value to avoid division by zero.\n",
    "    \n",
    "    Returns:\n",
    "        dict: A dictionary containing all computed metrics.\n",
    "    \"\"\"\n",
    "    classification = (outputs > 0.5).float()\n",
    "    targets = targets.float()\n",
    "    \n",
    "    # Dice Score\n",
    "    intersection = torch.sum(classification * targets, dim=(1,2,3))\n",
    "    union = torch.sum(classification, dim=(1,2,3)) + torch.sum(targets, dim=(1,2,3))\n",
    "    dice = ((2. * intersection + epsilon) / (union + epsilon)).mean()\n",
    "\n",
    "    # Dice Loss\n",
    "    bce_loss = 1/2*(nn.functional.binary_cross_entropy_with_logits(outputs, targets) + 1 - dice)\n",
    "\n",
    "    # IoU\n",
    "    iou_inter = (classification * targets).sum()\n",
    "    iou_union = classification.sum() + targets.sum() - iou_inter\n",
    "    iou = (iou_inter / (iou_union)).item() if iou_union > 0 else 1.0\n",
    "\n",
    "    # Precision\n",
    "    tp = (classification * targets).sum()\n",
    "    fp = (classification * (1 - targets)).sum()\n",
    "    precision = (tp / (tp + fp + epsilon))\n",
    "\n",
    "    # Recall\n",
    "    fn = ((1 - classification) * targets).sum()\n",
    "    recall = (tp / (tp + fn + epsilon))\n",
    "\n",
    "    return {\n",
    "        \"dice_score\": dice.item(),\n",
    "        \"bce_loss\": bce_loss.item(),\n",
    "        \"iou_score\": iou,\n",
    "        \"precision\": precision.item(),\n",
    "        \"recall\": recall.item()\n",
    "    }"
   ]
  },
  {
   "cell_type": "code",
   "execution_count": 124,
   "metadata": {
    "execution": {
     "iopub.execute_input": "2025-04-17T14:33:29.882812Z",
     "iopub.status.busy": "2025-04-17T14:33:29.882438Z",
     "iopub.status.idle": "2025-04-17T14:33:30.119826Z",
     "shell.execute_reply": "2025-04-17T14:33:30.118672Z",
     "shell.execute_reply.started": "2025-04-17T14:33:29.882787Z"
    },
    "trusted": true
   },
   "outputs": [
    {
     "name": "stdout",
     "output_type": "stream",
     "text": [
      "UNet(\n",
      "  (enc1): Sequential(\n",
      "    (0): Conv2d(1, 64, kernel_size=(3, 3), stride=(1, 1), padding=(1, 1))\n",
      "    (1): ReLU(inplace=True)\n",
      "    (2): Conv2d(64, 64, kernel_size=(3, 3), stride=(1, 1), padding=(1, 1))\n",
      "    (3): ReLU(inplace=True)\n",
      "  )\n",
      "  (pool1): MaxPool2d(kernel_size=2, stride=2, padding=0, dilation=1, ceil_mode=False)\n",
      "  (enc2): Sequential(\n",
      "    (0): Conv2d(64, 128, kernel_size=(3, 3), stride=(1, 1), padding=(1, 1))\n",
      "    (1): ReLU(inplace=True)\n",
      "    (2): Conv2d(128, 128, kernel_size=(3, 3), stride=(1, 1), padding=(1, 1))\n",
      "    (3): ReLU(inplace=True)\n",
      "  )\n",
      "  (pool2): MaxPool2d(kernel_size=2, stride=2, padding=0, dilation=1, ceil_mode=False)\n",
      "  (enc3): Sequential(\n",
      "    (0): Conv2d(128, 256, kernel_size=(3, 3), stride=(1, 1), padding=(1, 1))\n",
      "    (1): ReLU(inplace=True)\n",
      "    (2): Conv2d(256, 256, kernel_size=(3, 3), stride=(1, 1), padding=(1, 1))\n",
      "    (3): ReLU(inplace=True)\n",
      "  )\n",
      "  (pool3): MaxPool2d(kernel_size=2, stride=2, padding=0, dilation=1, ceil_mode=False)\n",
      "  (enc4): Sequential(\n",
      "    (0): Conv2d(256, 512, kernel_size=(3, 3), stride=(1, 1), padding=(1, 1))\n",
      "    (1): ReLU(inplace=True)\n",
      "    (2): Conv2d(512, 512, kernel_size=(3, 3), stride=(1, 1), padding=(1, 1))\n",
      "    (3): ReLU(inplace=True)\n",
      "  )\n",
      "  (pool4): MaxPool2d(kernel_size=2, stride=2, padding=0, dilation=1, ceil_mode=False)\n",
      "  (bottleneck): Sequential(\n",
      "    (0): Conv2d(512, 1024, kernel_size=(3, 3), stride=(1, 1), padding=(1, 1))\n",
      "    (1): ReLU(inplace=True)\n",
      "    (2): Conv2d(1024, 1024, kernel_size=(3, 3), stride=(1, 1), padding=(1, 1))\n",
      "    (3): ReLU(inplace=True)\n",
      "  )\n",
      "  (upconv4): ConvTranspose2d(1024, 512, kernel_size=(2, 2), stride=(2, 2))\n",
      "  (dec4): Sequential(\n",
      "    (0): Conv2d(1024, 512, kernel_size=(3, 3), stride=(1, 1), padding=(1, 1))\n",
      "    (1): ReLU(inplace=True)\n",
      "    (2): Conv2d(512, 512, kernel_size=(3, 3), stride=(1, 1), padding=(1, 1))\n",
      "    (3): ReLU(inplace=True)\n",
      "  )\n",
      "  (upconv3): ConvTranspose2d(512, 256, kernel_size=(2, 2), stride=(2, 2))\n",
      "  (dec3): Sequential(\n",
      "    (0): Conv2d(512, 256, kernel_size=(3, 3), stride=(1, 1), padding=(1, 1))\n",
      "    (1): ReLU(inplace=True)\n",
      "    (2): Conv2d(256, 256, kernel_size=(3, 3), stride=(1, 1), padding=(1, 1))\n",
      "    (3): ReLU(inplace=True)\n",
      "  )\n",
      "  (upconv2): ConvTranspose2d(256, 128, kernel_size=(2, 2), stride=(2, 2))\n",
      "  (dec2): Sequential(\n",
      "    (0): Conv2d(256, 128, kernel_size=(3, 3), stride=(1, 1), padding=(1, 1))\n",
      "    (1): ReLU(inplace=True)\n",
      "    (2): Conv2d(128, 128, kernel_size=(3, 3), stride=(1, 1), padding=(1, 1))\n",
      "    (3): ReLU(inplace=True)\n",
      "  )\n",
      "  (upconv1): ConvTranspose2d(128, 64, kernel_size=(2, 2), stride=(2, 2))\n",
      "  (dec1): Sequential(\n",
      "    (0): Conv2d(128, 64, kernel_size=(3, 3), stride=(1, 1), padding=(1, 1))\n",
      "    (1): ReLU(inplace=True)\n",
      "    (2): Conv2d(64, 64, kernel_size=(3, 3), stride=(1, 1), padding=(1, 1))\n",
      "    (3): ReLU(inplace=True)\n",
      "  )\n",
      "  (final_conv): Conv2d(64, 1, kernel_size=(1, 1), stride=(1, 1))\n",
      ")\n"
     ]
    }
   ],
   "source": [
    "model = UNet().to(device)\n",
    "print(model)"
   ]
  },
  {
   "cell_type": "code",
   "execution_count": 125,
   "metadata": {
    "execution": {
     "iopub.execute_input": "2025-04-17T14:33:30.121604Z",
     "iopub.status.busy": "2025-04-17T14:33:30.121293Z",
     "iopub.status.idle": "2025-04-17T14:33:30.128244Z",
     "shell.execute_reply": "2025-04-17T14:33:30.127287Z",
     "shell.execute_reply.started": "2025-04-17T14:33:30.121580Z"
    },
    "trusted": true
   },
   "outputs": [],
   "source": [
    "criterion = nn.functional.binary_cross_entropy_with_logits\n",
    "optimizer = torch.optim.Adam(model.parameters(), lr=config.learning_rate)\n",
    "num_epochs = 100\n",
    "\n",
    "log_file = \"UNet.csv\"  \n",
    "log_fields = [\"epoch\", \"time\", \n",
    "              \"train_loss\", \"val_loss\", \n",
    "              \"dice_train\", \"dice_val\", \n",
    "              \"mIou_train\", \"mIou_val\", \n",
    "              \"precision_train\", \"precision_val\", \n",
    "              \"recall_train\", \"recall_val\",]"
   ]
  },
  {
   "cell_type": "code",
   "execution_count": 126,
   "metadata": {
    "execution": {
     "iopub.execute_input": "2025-04-17T14:33:30.129667Z",
     "iopub.status.busy": "2025-04-17T14:33:30.129311Z",
     "iopub.status.idle": "2025-04-17T14:33:30.151955Z",
     "shell.execute_reply": "2025-04-17T14:33:30.150759Z",
     "shell.execute_reply.started": "2025-04-17T14:33:30.129627Z"
    },
    "trusted": true
   },
   "outputs": [],
   "source": [
    "def validation_metrics(model, dataloader):\n",
    "    val_loss = 0.0\n",
    "    val_dice = 0.0\n",
    "    val_iou = 0.0\n",
    "    val_recall = 0.0\n",
    "    val_precision = 0.0\n",
    "\n",
    "    model.eval()\n",
    "    \n",
    "    val_iterator = tqdm(dataloader, desc=f\"Validation...\", leave = False)\n",
    "    with torch.no_grad():\n",
    "        for inputs, segmentation_masks in val_iterator:\n",
    "            inputs = inputs.to(device)\n",
    "            segmentation_masks = segmentation_masks.to(device)\n",
    "            \n",
    "            outputs = model(inputs)\n",
    "            outputs = torch.sigmoid(outputs)\n",
    "\n",
    "            loss = criterion(outputs, segmentation_masks)\n",
    "            \n",
    "            metrics = compute_metrics(outputs, segmentation_masks)\n",
    "            \n",
    "            val_loss += metrics['bce_loss']\n",
    "            val_dice += metrics['dice_score']\n",
    "            val_iou += metrics['iou_score']\n",
    "            val_recall += metrics['recall']\n",
    "            val_precision += metrics['precision']\n",
    "\n",
    "    return (val_loss/ len(dataloader)),(val_dice/ len(dataloader)), (val_iou/ len(dataloader)), (val_recall/ len(dataloader)),(val_precision/ len(dataloader))\n",
    "\n",
    "def log_metrics_to_csv(epoch, epoch_time, train_metrics, val_metrics):\n",
    "    with open(log_file, 'a', newline='', encoding='utf-8') as csvfile:\n",
    "        writer = csv.DictWriter(csvfile, fieldnames=log_fields)\n",
    "        writer.writerow({\n",
    "            \"epoch\": epoch,\n",
    "            \"time\": epoch_time,\n",
    "            \"train_loss\": train_metrics['bce_loss'],\n",
    "            \"val_loss\": val_metrics['bce_loss'],\n",
    "            \"dice_train\": train_metrics['dice_score'],\n",
    "            \"dice_val\": val_metrics['dice_score'],\n",
    "            \"mIou_train\": train_metrics['iou_score'],\n",
    "            \"mIou_val\": val_metrics['iou_score'],\n",
    "            \"precision_train\": train_metrics['precision'],\n",
    "            \"precision_val\": val_metrics['precision'],\n",
    "            \"recall_train\": train_metrics['recall'],\n",
    "            \"recall_val\": val_metrics['recall']\n",
    "        })"
   ]
  },
  {
   "cell_type": "code",
   "execution_count": 127,
   "metadata": {
    "execution": {
     "iopub.execute_input": "2025-04-17T14:33:31.913996Z",
     "iopub.status.busy": "2025-04-17T14:33:31.913249Z",
     "iopub.status.idle": "2025-04-17T14:33:31.930439Z",
     "shell.execute_reply": "2025-04-17T14:33:31.929273Z",
     "shell.execute_reply.started": "2025-04-17T14:33:31.913964Z"
    },
    "trusted": true
   },
   "outputs": [],
   "source": [
    "def visualize_prediction(model, index, orientation=63):\n",
    "    model.eval()\n",
    "    with torch.no_grad():\n",
    "        try:\n",
    "            # Load volume and mask\n",
    "            image_path = config.volume_paths[index]\n",
    "            mask_path = config.seg_paths[index]\n",
    "            data = nib.load(image_path).get_fdata().transpose(2, 1, 0)\n",
    "            mask = nib.load(mask_path).get_fdata().transpose(2, 1, 0)\n",
    "\n",
    "            # Select slice\n",
    "            image_slice = data[orientation]\n",
    "            image_slice = preprocessing(image_slice)\n",
    "            mask_slice = mask[orientation]\n",
    "\n",
    "            # Preprocess (resize, normalize, convert to tensor)\n",
    "            image_tensor = torch.tensor(image_slice, dtype=torch.float32).unsqueeze(0).unsqueeze(0)  # [1, 1, H, W]\n",
    "            # image_tensor = F.interpolate(image_tensor, size=(256, 256), mode='bilinear')  # \n",
    "            image_tensor = image_tensor.to(device)\n",
    "\n",
    "            # Prediction\n",
    "            output = torch.sigmoid(model(image_tensor))\n",
    "            pred_mask = (output > 0.5).float().squeeze().cpu().numpy()\n",
    "\n",
    "            # Resize mask_slice to match prediction for fair display\n",
    "            mask_tensor = torch.tensor(mask_slice, dtype=torch.float32).unsqueeze(0).unsqueeze(0)\n",
    "            mask_tensor = F.interpolate(mask_tensor, size=(256, 256), mode='nearest')\n",
    "            mask_resized = mask_tensor.squeeze().numpy()\n",
    "\n",
    "            # Plot\n",
    "            fig, axes = plt.subplots(1, 3, figsize=(10, 6))\n",
    "            axes[0].imshow(image_tensor.squeeze().cpu(), cmap='gray')\n",
    "            axes[0].set_title(\"Input Image\")\n",
    "            axes[1].imshow(mask_resized, cmap='gray')\n",
    "            axes[1].set_title(\"Ground Truth\")\n",
    "            axes[2].imshow(pred_mask, cmap='gray')\n",
    "            axes[2].set_title(\"Prediction\")\n",
    "            for ax in axes:\n",
    "                ax.axis('off')\n",
    "            plt.tight_layout()\n",
    "            plt.show()\n",
    "\n",
    "        except Exception as e:\n",
    "            print(f\"Could not load or process image: {e}\")\n",
    "\n",
    "def run_one_epoch(model, optimizer, criterion, train_dataloader, test_dataloader,\n",
    "                  epoch, best_dice, save_path, checkpoint_path, log_file, log_fields):\n",
    "    \n",
    "    model.train()\n",
    "    epoch_start_time = time.time()\n",
    "\n",
    "    train_iterator = tqdm(enumerate(train_dataloader), total=len(train_dataloader), desc=f\"Epoch {epoch+1}\")\n",
    "    running_metrics = {'bce_loss': 0.0, 'dice_score': 0.0, 'iou_score': 0.0, 'precision': 0.0, 'recall': 0.0}\n",
    "\n",
    "    for i, (inputs, masks) in train_iterator:\n",
    "        inputs, masks = inputs.to(device), masks.to(device)\n",
    "\n",
    "        optimizer.zero_grad()\n",
    "        outputs = torch.sigmoid(model(inputs))\n",
    "        loss = criterion(outputs, masks)\n",
    "        loss.backward()\n",
    "        optimizer.step()\n",
    "\n",
    "        metrics = compute_metrics(outputs, masks)\n",
    "\n",
    "        running_metrics['bce_loss'] += metrics['bce_loss']\n",
    "        running_metrics['dice_score'] += metrics['dice_score']\n",
    "        running_metrics['iou_score'] += metrics['iou_score']\n",
    "        running_metrics['precision'] += metrics['precision']\n",
    "        running_metrics['recall'] += metrics['recall']\n",
    "\n",
    "        avg_metrics = {k: v / (i + 1) for k, v in running_metrics.items()}\n",
    "        train_iterator.set_postfix({\n",
    "            'bce_loss': f\"{avg_metrics['bce_loss']:.4f}\",\n",
    "            'dice_score': f\"{avg_metrics['dice_score']:.4f}\",\n",
    "            'iou_score': f\"{avg_metrics['iou_score']:.4f}\",\n",
    "            'precision': f\"{avg_metrics['precision']:.4f}\",\n",
    "            'recall': f\"{avg_metrics['recall']:.4f}\"\n",
    "        })\n",
    "\n",
    "    # Validation\n",
    "    val_loss, val_dice, val_iou, val_recall, val_precision = validation_metrics(model, test_dataloader)\n",
    "    val_metrics = {\n",
    "        'bce_loss': val_loss,\n",
    "        'dice_score': val_dice,\n",
    "        'iou_score': val_iou,\n",
    "        'precision': val_precision,\n",
    "        'recall': val_recall\n",
    "    }\n",
    "\n",
    "    # Save best model\n",
    "    if val_dice > best_dice:\n",
    "        torch.save(model.state_dict(), save_path)\n",
    "        best_dice = val_dice\n",
    "        print(f\"Epoch {epoch+1}: New best model saved with Dice {val_dice:.4f}\")\n",
    "\n",
    "    # Save checkpoint\n",
    "    torch.save({\n",
    "        'epoch': epoch,\n",
    "        'model_state_dict': model.state_dict(),\n",
    "        'optimizer_state_dict': optimizer.state_dict(),\n",
    "        'best_dice': best_dice\n",
    "    }, checkpoint_path)\n",
    "\n",
    "    # Log\n",
    "    epoch_time = time.time() - epoch_start_time\n",
    "    log_metrics_to_csv(epoch, epoch_time, avg_metrics, val_metrics)\n",
    "\n",
    "    return best_dice"
   ]
  },
  {
   "cell_type": "code",
   "execution_count": 128,
   "metadata": {
    "execution": {
     "iopub.execute_input": "2025-04-17T14:33:32.107434Z",
     "iopub.status.busy": "2025-04-17T14:33:32.107110Z",
     "iopub.status.idle": "2025-04-17T15:49:15.560270Z",
     "shell.execute_reply": "2025-04-17T15:49:15.558386Z",
     "shell.execute_reply.started": "2025-04-17T14:33:32.107410Z"
    },
    "trusted": true
   },
   "outputs": [
    {
     "name": "stdout",
     "output_type": "stream",
     "text": [
      "\n",
      "=== Epoch 1 ===\n"
     ]
    },
    {
     "name": "stderr",
     "output_type": "stream",
     "text": [
      "Epoch 1: 100%|██████████| 16/16 [06:12<00:00, 23.28s/it, bce_loss=1.5201, dice_score=0.2266, iou_score=0.0000, precision=0.0000, recall=0.0000]\n",
      "                                                            \r"
     ]
    },
    {
     "name": "stdout",
     "output_type": "stream",
     "text": [
      "Epoch 1: New best model saved with Dice 0.2118\n",
      "\n",
      "=== Epoch 2 ===\n"
     ]
    },
    {
     "name": "stderr",
     "output_type": "stream",
     "text": [
      "Epoch 2: 100%|██████████| 16/16 [06:16<00:00, 23.53s/it, bce_loss=1.4666, dice_score=0.2266, iou_score=0.0000, precision=0.0000, recall=0.0000]\n",
      "                                                            \r"
     ]
    },
    {
     "name": "stdout",
     "output_type": "stream",
     "text": [
      "\n",
      "=== Epoch 3 ===\n"
     ]
    },
    {
     "name": "stderr",
     "output_type": "stream",
     "text": [
      "Epoch 3: 100%|██████████| 16/16 [06:09<00:00, 23.09s/it, bce_loss=1.4783, dice_score=0.2148, iou_score=0.0000, precision=0.0000, recall=0.0000]\n",
      "                                                            \r"
     ]
    },
    {
     "name": "stdout",
     "output_type": "stream",
     "text": [
      "\n",
      "=== Epoch 4 ===\n"
     ]
    },
    {
     "name": "stderr",
     "output_type": "stream",
     "text": [
      "Epoch 4: 100%|██████████| 16/16 [06:10<00:00, 23.13s/it, bce_loss=1.4783, dice_score=0.2148, iou_score=0.0000, precision=0.0000, recall=0.0000]\n",
      "                                                            \r"
     ]
    },
    {
     "name": "stdout",
     "output_type": "stream",
     "text": [
      "\n",
      "=== Epoch 5 ===\n"
     ]
    },
    {
     "name": "stderr",
     "output_type": "stream",
     "text": [
      "Epoch 5: 100%|██████████| 16/16 [06:26<00:00, 24.14s/it, bce_loss=1.4666, dice_score=0.2266, iou_score=0.0000, precision=0.0000, recall=0.0000]\n",
      "                                                            \r"
     ]
    },
    {
     "name": "stdout",
     "output_type": "stream",
     "text": [
      "\n",
      "=== Epoch 6 ===\n"
     ]
    },
    {
     "name": "stderr",
     "output_type": "stream",
     "text": [
      "Epoch 6: 100%|██████████| 16/16 [06:21<00:00, 23.82s/it, bce_loss=1.4549, dice_score=0.2383, iou_score=0.0000, precision=0.0000, recall=0.0000]\n",
      "                                                            \r"
     ]
    },
    {
     "name": "stdout",
     "output_type": "stream",
     "text": [
      "\n",
      "=== Epoch 7 ===\n"
     ]
    },
    {
     "name": "stderr",
     "output_type": "stream",
     "text": [
      "Epoch 7: 100%|██████████| 16/16 [06:05<00:00, 22.82s/it, bce_loss=1.4666, dice_score=0.2266, iou_score=0.0000, precision=0.0000, recall=0.0000]\n",
      "                                                            \r"
     ]
    },
    {
     "name": "stdout",
     "output_type": "stream",
     "text": [
      "\n",
      "=== Epoch 8 ===\n"
     ]
    },
    {
     "name": "stderr",
     "output_type": "stream",
     "text": [
      "Epoch 8: 100%|██████████| 16/16 [06:21<00:00, 23.82s/it, bce_loss=1.4666, dice_score=0.2266, iou_score=0.0000, precision=0.0000, recall=0.0000]\n",
      "                                                            \r"
     ]
    },
    {
     "name": "stdout",
     "output_type": "stream",
     "text": [
      "\n",
      "=== Epoch 9 ===\n"
     ]
    },
    {
     "name": "stderr",
     "output_type": "stream",
     "text": [
      "Epoch 9: 100%|██████████| 16/16 [06:27<00:00, 24.22s/it, bce_loss=1.4666, dice_score=0.2266, iou_score=0.0000, precision=0.0000, recall=0.0000]\n",
      "                                                            \r"
     ]
    },
    {
     "name": "stdout",
     "output_type": "stream",
     "text": [
      "\n",
      "=== Epoch 10 ===\n"
     ]
    },
    {
     "name": "stderr",
     "output_type": "stream",
     "text": [
      "Epoch 10: 100%|██████████| 16/16 [06:22<00:00, 23.93s/it, bce_loss=1.4783, dice_score=0.2148, iou_score=0.0000, precision=0.0000, recall=0.0000]\n",
      "                                                            \r"
     ]
    },
    {
     "data": {
      "image/png": "[encoded data removed]",
      "text/plain": [
       "<Figure size 1000x600 with 3 Axes>"
      ]
     },
     "metadata": {},
     "output_type": "display_data"
    }
   ],
   "source": [
    "best_dice = 0\n",
    "\n",
    "with open(log_file, 'w', newline='', encoding='utf-8') as csvfile:\n",
    "    writer = csv.DictWriter(csvfile, fieldnames=log_fields)\n",
    "    writer.writeheader()\n",
    "\n",
    "for current_epoch in range(10):\n",
    "    print(f\"\\n=== Epoch {current_epoch+1} ===\")\n",
    "    best_dice = run_one_epoch(\n",
    "        model=model,\n",
    "        optimizer=optimizer,\n",
    "        criterion=criterion,\n",
    "        train_dataloader=train_dataloader,\n",
    "        test_dataloader=test_dataloader,\n",
    "        epoch=current_epoch,\n",
    "        best_dice=best_dice,\n",
    "        save_path=\"/kaggle/working/trained_unet.pt\",\n",
    "        checkpoint_path=\"/kaggle/working/last_checkpoint.pt\",\n",
    "        log_file=log_file,\n",
    "        log_fields=log_fields\n",
    "    )\n",
    "visualize_prediction(model, 4, 63)"
   ]
  },
  {
   "cell_type": "markdown",
   "metadata": {},
   "source": [
    "## To test the model"
   ]
  },
  {
   "cell_type": "code",
   "execution_count": null,
   "metadata": {
    "execution": {
     "iopub.execute_input": "2025-04-17T16:59:38.496314Z",
     "iopub.status.busy": "2025-04-17T16:59:38.495961Z",
     "iopub.status.idle": "2025-04-17T16:59:39.057654Z",
     "shell.execute_reply": "2025-04-17T16:59:39.056645Z",
     "shell.execute_reply.started": "2025-04-17T16:59:38.496257Z"
    },
    "trusted": true
   },
   "outputs": [
    {
     "name": "stderr",
     "output_type": "stream",
     "text": [
      "/tmp/ipykernel_31/3541181264.py:2: FutureWarning: You are using `torch.load` with `weights_only=False` (the current default value), which uses the default pickle module implicitly. It is possible to construct malicious pickle data which will execute arbitrary code during unpickling (See https://github.com/pytorch/pytorch/blob/main/SECURITY.md#untrusted-models for more details). In a future release, the default value for `weights_only` will be flipped to `True`. This limits the functions that could be executed during unpickling. Arbitrary objects will no longer be allowed to be loaded via this mode unless they are explicitly allowlisted by the user via `torch.serialization.add_safe_globals`. We recommend you start setting `weights_only=True` for any use case where you don't have full control of the loaded file. Please open an issue on GitHub for any issues related to this experimental feature.\n",
      "  model.load_state_dict(torch.load(\"/kaggle/input/unet_liver/other/default/1/trained_unet.pt\"))\n"
     ]
    },
    {
     "data": {
      "text/plain": [
       "UNet(\n",
       "  (enc1): Sequential(\n",
       "    (0): Conv2d(1, 64, kernel_size=(3, 3), stride=(1, 1), padding=(1, 1))\n",
       "    (1): ReLU(inplace=True)\n",
       "    (2): Conv2d(64, 64, kernel_size=(3, 3), stride=(1, 1), padding=(1, 1))\n",
       "    (3): ReLU(inplace=True)\n",
       "  )\n",
       "  (pool1): MaxPool2d(kernel_size=2, stride=2, padding=0, dilation=1, ceil_mode=False)\n",
       "  (enc2): Sequential(\n",
       "    (0): Conv2d(64, 128, kernel_size=(3, 3), stride=(1, 1), padding=(1, 1))\n",
       "    (1): ReLU(inplace=True)\n",
       "    (2): Conv2d(128, 128, kernel_size=(3, 3), stride=(1, 1), padding=(1, 1))\n",
       "    (3): ReLU(inplace=True)\n",
       "  )\n",
       "  (pool2): MaxPool2d(kernel_size=2, stride=2, padding=0, dilation=1, ceil_mode=False)\n",
       "  (enc3): Sequential(\n",
       "    (0): Conv2d(128, 256, kernel_size=(3, 3), stride=(1, 1), padding=(1, 1))\n",
       "    (1): ReLU(inplace=True)\n",
       "    (2): Conv2d(256, 256, kernel_size=(3, 3), stride=(1, 1), padding=(1, 1))\n",
       "    (3): ReLU(inplace=True)\n",
       "  )\n",
       "  (pool3): MaxPool2d(kernel_size=2, stride=2, padding=0, dilation=1, ceil_mode=False)\n",
       "  (enc4): Sequential(\n",
       "    (0): Conv2d(256, 512, kernel_size=(3, 3), stride=(1, 1), padding=(1, 1))\n",
       "    (1): ReLU(inplace=True)\n",
       "    (2): Conv2d(512, 512, kernel_size=(3, 3), stride=(1, 1), padding=(1, 1))\n",
       "    (3): ReLU(inplace=True)\n",
       "  )\n",
       "  (pool4): MaxPool2d(kernel_size=2, stride=2, padding=0, dilation=1, ceil_mode=False)\n",
       "  (bottleneck): Sequential(\n",
       "    (0): Conv2d(512, 1024, kernel_size=(3, 3), stride=(1, 1), padding=(1, 1))\n",
       "    (1): ReLU(inplace=True)\n",
       "    (2): Conv2d(1024, 1024, kernel_size=(3, 3), stride=(1, 1), padding=(1, 1))\n",
       "    (3): ReLU(inplace=True)\n",
       "  )\n",
       "  (upconv4): ConvTranspose2d(1024, 512, kernel_size=(2, 2), stride=(2, 2))\n",
       "  (dec4): Sequential(\n",
       "    (0): Conv2d(1024, 512, kernel_size=(3, 3), stride=(1, 1), padding=(1, 1))\n",
       "    (1): ReLU(inplace=True)\n",
       "    (2): Conv2d(512, 512, kernel_size=(3, 3), stride=(1, 1), padding=(1, 1))\n",
       "    (3): ReLU(inplace=True)\n",
       "  )\n",
       "  (upconv3): ConvTranspose2d(512, 256, kernel_size=(2, 2), stride=(2, 2))\n",
       "  (dec3): Sequential(\n",
       "    (0): Conv2d(512, 256, kernel_size=(3, 3), stride=(1, 1), padding=(1, 1))\n",
       "    (1): ReLU(inplace=True)\n",
       "    (2): Conv2d(256, 256, kernel_size=(3, 3), stride=(1, 1), padding=(1, 1))\n",
       "    (3): ReLU(inplace=True)\n",
       "  )\n",
       "  (upconv2): ConvTranspose2d(256, 128, kernel_size=(2, 2), stride=(2, 2))\n",
       "  (dec2): Sequential(\n",
       "    (0): Conv2d(256, 128, kernel_size=(3, 3), stride=(1, 1), padding=(1, 1))\n",
       "    (1): ReLU(inplace=True)\n",
       "    (2): Conv2d(128, 128, kernel_size=(3, 3), stride=(1, 1), padding=(1, 1))\n",
       "    (3): ReLU(inplace=True)\n",
       "  )\n",
       "  (upconv1): ConvTranspose2d(128, 64, kernel_size=(2, 2), stride=(2, 2))\n",
       "  (dec1): Sequential(\n",
       "    (0): Conv2d(128, 64, kernel_size=(3, 3), stride=(1, 1), padding=(1, 1))\n",
       "    (1): ReLU(inplace=True)\n",
       "    (2): Conv2d(64, 64, kernel_size=(3, 3), stride=(1, 1), padding=(1, 1))\n",
       "    (3): ReLU(inplace=True)\n",
       "  )\n",
       "  (final_conv): Conv2d(64, 1, kernel_size=(1, 1), stride=(1, 1))\n",
       ")"
      ]
     },
     "execution_count": 130,
     "metadata": {},
     "output_type": "execute_result"
    }
   ],
   "source": [
    "model = UNet().to(device)\n",
    "model.load_state_dict(torch.load(\"/kaggle/input/unet_liver/other/default/1/trained_unet.pt\"))\n",
    "model.eval()"
   ]
  },
  {
   "cell_type": "code",
   "execution_count": null,
   "metadata": {
    "execution": {
     "iopub.execute_input": "2025-04-17T17:07:15.721188Z",
     "iopub.status.busy": "2025-04-17T17:07:15.720776Z",
     "iopub.status.idle": "2025-04-17T17:08:28.862990Z",
     "shell.execute_reply": "2025-04-17T17:08:28.862040Z",
     "shell.execute_reply.started": "2025-04-17T17:07:15.721157Z"
    },
    "trusted": true
   },
   "outputs": [
    {
     "name": "stderr",
     "output_type": "stream",
     "text": [
      "                                                         "
     ]
    },
    {
     "name": "stdout",
     "output_type": "stream",
     "text": [
      "Test Metrics:\n",
      "Loss: 1.2851\n",
      "Dice Score: 0.8997\n",
      "IoU: 0.8389\n",
      "Precision: 0.7855\n",
      "Recall: 0.8687\n"
     ]
    },
    {
     "name": "stderr",
     "output_type": "stream",
     "text": [
      "\r"
     ]
    }
   ],
   "source": [
    "test_metrics = {'loss': 0.0, 'dice_score': 0.0, 'iou_score': 0.0, 'precision': 0.0, 'recall': 0.0}\n",
    "\n",
    "with torch.no_grad():\n",
    "    test_iterator = tqdm(test_dataloader, desc=\"Test\", leave=False)\n",
    "    for inputs, masks in test_iterator:\n",
    "        inputs, masks = inputs.to(device), masks.to(device)\n",
    "        \n",
    "        outputs = torch.sigmoid(model(inputs))\n",
    "        loss = criterion(outputs, masks)\n",
    "        \n",
    "        metrics = compute_metrics(outputs, masks)\n",
    "        \n",
    "        test_metrics['loss'] += metrics['bce_loss']\n",
    "        test_metrics['dice_score'] += metrics['dice_score']\n",
    "        test_metrics['iou_score'] += metrics['iou_score']\n",
    "        test_metrics['precision'] += metrics['precision']\n",
    "        test_metrics['recall'] += metrics['recall']\n",
    "\n",
    "# Average the metrics over the test dataset\n",
    "num_batches = len(test_dataloader)\n",
    "test_metrics = {k: v / num_batches for k, v in test_metrics.items()}\n",
    "\n",
    "# Print the metrics\n",
    "print(\"Test Metrics:\")\n",
    "print(f\"Loss: {test_metrics['loss']:.4f}\")\n",
    "loss_final = test_metrics['dice_score']\n",
    "print(f\"Dice Score: {loss_final:.4f}\")\n",
    "print(f\"IoU: {test_metrics['iou_score']:.4f}\")\n",
    "print(f\"Precision: {test_metrics['precision']:.4f}\")\n",
    "print(f\"Recall: {test_metrics['recall']:.4f}\")"
   ]
  },
  {
   "cell_type": "code",
   "execution_count": null,
   "metadata": {
    "trusted": true
   },
   "outputs": [],
   "source": []
  }
 ],
 "metadata": {
  "kaggle": {
   "accelerator": "none",
   "dataSources": [
    {
     "datasetId": 767686,
     "sourceId": 1327578,
     "sourceType": "datasetVersion"
    },
    {
     "datasetId": 769463,
     "sourceId": 1327590,
     "sourceType": "datasetVersion"
    },
    {
     "datasetId": 6575546,
     "sourceId": 10620055,
     "sourceType": "datasetVersion"
    },
    {
     "datasetId": 6751135,
     "sourceId": 10867209,
     "sourceType": "datasetVersion"
    },
    {
     "isSourceIdPinned": true,
     "modelId": 306686,
     "modelInstanceId": 285843,
     "sourceId": 341722,
     "sourceType": "modelInstanceVersion"
    }
   ],
   "dockerImageVersionId": 31012,
   "isGpuEnabled": false,
   "isInternetEnabled": true,
   "language": "python",
   "sourceType": "notebook"
  },
  "kernelspec": {
   "display_name": "Python 3",
   "language": "python",
   "name": "python3"
  },
  "language_info": {
   "codemirror_mode": {
    "name": "ipython",
    "version": 3
   },
   "file_extension": ".py",
   "mimetype": "text/x-python",
   "name": "python",
   "nbconvert_exporter": "python",
   "pygments_lexer": "ipython3",
   "version": "3.11.11"
  }
 },
 "nbformat": 4,
 "nbformat_minor": 4
}
